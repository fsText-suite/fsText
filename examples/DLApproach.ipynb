{
 "cells": [
  {
   "cell_type": "markdown",
   "metadata": {},
   "source": [
    "<center><h1 style=\"font-size:3em\"> Few-shot text classification </h1></center>\n",
    "<br>\n",
    "<center><i style=\"font-size:1.3em\">With a Deep Learning Approach</i></center>"
   ]
  },
  {
   "cell_type": "markdown",
   "metadata": {},
   "source": [
    "Resources :\n",
    "- Includes Easy Data Augmentation (EDA) package : https://github.com/jasonwei20/eda_nlp/blob/master/code/eda.py introduced after this paper : https://arxiv.org/pdf/1901.11196.pdf\n",
    "- Neural Structure Learning for sentiment classification (learn graph from embedding) : https://www.tensorflow.org/neural_structured_learning/tutorials/graph_keras_lstm_imdb\n",
    "- RNN text classification with Tensorflow 2.0 : https://www.tensorflow.org/beta/tutorials/text/text_classification_rnn\n",
    "- Great paper from August 2019 : https://arxiv.org/pdf/1908.08788.pdf\n"
   ]
  },
  {
   "cell_type": "code",
   "execution_count": 118,
   "metadata": {
    "ExecuteTime": {
     "end_time": "2019-09-09T15:24:18.193663Z",
     "start_time": "2019-09-09T15:24:18.062882Z"
    }
   },
   "outputs": [],
   "source": [
    "import pandas as pd\n",
    "import numpy as np\n",
    "from random import seed\n",
    "from random import sample\n",
    "import random\n",
    "from random import shuffle\n",
    "import re\n",
    "\n",
    "seed(42)\n",
    "np.random.seed(42)\n",
    "\n",
    "from sklearn.model_selection import train_test_split\n",
    "import matplotlib.pyplot as plt\n",
    "\n",
    "import gensim.downloader as api\n",
    "from gensim.models.keyedvectors import Word2VecKeyedVectors\n",
    "\n",
    "from sklearn.decomposition import PCA\n",
    "from sklearn.metrics import accuracy_score\n",
    "from scipy import spatial\n",
    "\n",
    "from sklearn.neighbors import KNeighborsClassifier\n",
    "from sklearn.ensemble import RandomForestClassifier\n",
    "from xgboost import XGBClassifier\n",
    "\n",
    "import nltk\n",
    "from nltk.corpus import stopwords\n",
    "from nltk.corpus import wordnet \n",
    "\n",
    "import tensorflow as tf\n",
    "import tensorflow_datasets as tfds\n",
    "\n",
    "import tensorflow.keras\n",
    "import tensorflow.keras.preprocessing.text as kpt\n",
    "from tensorflow.keras.preprocessing.text import Tokenizer\n",
    "from tensorflow.keras.preprocessing import sequence\n",
    "\n",
    "import neural_structured_learning as nsl\n",
    "import tensorflow_hub as hub"
   ]
  },
  {
   "cell_type": "code",
   "execution_count": 105,
   "metadata": {
    "ExecuteTime": {
     "end_time": "2019-09-09T15:01:33.794134Z",
     "start_time": "2019-09-09T15:01:33.781134Z"
    }
   },
   "outputs": [],
   "source": [
    "stop_words = ['i', 'me', 'my', 'myself', 'we', 'our', \n",
    "'ours', 'ourselves', 'you', 'your', 'yours', \n",
    "'yourself', 'yourselves', 'he', 'him', 'his', \n",
    "'himself', 'she', 'her', 'hers', 'herself', \n",
    "'it', 'its', 'itself', 'they', 'them', 'their', \n",
    "'theirs', 'themselves', 'what', 'which', 'who', \n",
    "'whom', 'this', 'that', 'these', 'those', 'am', \n",
    "'is', 'are', 'was', 'were', 'be', 'been', 'being', \n",
    "'have', 'has', 'had', 'having', 'do', 'does', 'did',\n",
    "'doing', 'a', 'an', 'the', 'and', 'but', 'if', 'or',\n",
    "'because', 'as', 'until', 'while', 'of', 'at', \n",
    "'by', 'for', 'with', 'about', 'against', 'between',\n",
    "'into', 'through', 'during', 'before', 'after', \n",
    "'above', 'below', 'to', 'from', 'up', 'down', 'in',\n",
    "'out', 'on', 'off', 'over', 'under', 'again', \n",
    "'further', 'then', 'once', 'here', 'there', 'when', \n",
    "'where', 'why', 'how', 'all', 'any', 'both', 'each', \n",
    "'few', 'more', 'most', 'other', 'some', 'such', 'no', \n",
    "'nor', 'not', 'only', 'own', 'same', 'so', 'than', 'too', \n",
    "'very', 's', 't', 'can', 'will', 'just', 'don', \n",
    "'should', 'now', '']"
   ]
  },
  {
   "cell_type": "code",
   "execution_count": 106,
   "metadata": {
    "ExecuteTime": {
     "end_time": "2019-09-09T15:03:52.360782Z",
     "start_time": "2019-09-09T15:01:34.394175Z"
    }
   },
   "outputs": [],
   "source": [
    "#model2 = api.load('glove-twitter-25')\n",
    "model2 = api.load('word2vec-google-news-300')"
   ]
  },
  {
   "cell_type": "markdown",
   "metadata": {},
   "source": [
    "# Load the data"
   ]
  },
  {
   "cell_type": "markdown",
   "metadata": {},
   "source": [
    "The dataset comes from Stackoverflow Short Text Classification : https://github.com/jacoxu/StackOverflow"
   ]
  },
  {
   "cell_type": "code",
   "execution_count": 79,
   "metadata": {
    "ExecuteTime": {
     "end_time": "2019-09-09T14:58:54.362655Z",
     "start_time": "2019-09-09T14:58:54.310935Z"
    },
    "scrolled": true
   },
   "outputs": [],
   "source": [
    "df = pd.read_csv(\"stack.csv\")"
   ]
  },
  {
   "cell_type": "code",
   "execution_count": 80,
   "metadata": {
    "ExecuteTime": {
     "end_time": "2019-09-09T14:58:54.710773Z",
     "start_time": "2019-09-09T14:58:54.701119Z"
    }
   },
   "outputs": [],
   "source": [
    "def get_only_chars(line):\n",
    "\n",
    "    clean_line = \"\"\n",
    "\n",
    "    line = line.replace(\"’\", \"\")\n",
    "    line = line.replace(\"'\", \"\")\n",
    "    line = line.replace(\"-\", \" \") #replace hyphens with spaces\n",
    "    line = line.replace(\"\\t\", \" \")\n",
    "    line = line.replace(\"\\n\", \" \")\n",
    "    line = line.lower()\n",
    "\n",
    "    for char in line:\n",
    "        if char in 'qwertyuiopasdfghjklzxcvbnm ':\n",
    "            clean_line += char\n",
    "        else:\n",
    "            clean_line += ' '\n",
    "\n",
    "    clean_line = re.sub(' +',' ',clean_line) #delete extra spaces\n",
    "    if clean_line[0] == ' ':\n",
    "        clean_line = clean_line[1:]\n",
    "    return clean_line"
   ]
  },
  {
   "cell_type": "code",
   "execution_count": 81,
   "metadata": {
    "ExecuteTime": {
     "end_time": "2019-09-09T14:58:55.356827Z",
     "start_time": "2019-09-09T14:58:55.158768Z"
    }
   },
   "outputs": [],
   "source": [
    "df['Text'] = df['Text'].apply(lambda x: get_only_chars(x))"
   ]
  },
  {
   "cell_type": "code",
   "execution_count": 82,
   "metadata": {
    "ExecuteTime": {
     "end_time": "2019-09-09T14:58:55.629653Z",
     "start_time": "2019-09-09T14:58:55.622025Z"
    }
   },
   "outputs": [
    {
     "data": {
      "text/html": [
       "<div>\n",
       "<style scoped>\n",
       "    .dataframe tbody tr th:only-of-type {\n",
       "        vertical-align: middle;\n",
       "    }\n",
       "\n",
       "    .dataframe tbody tr th {\n",
       "        vertical-align: top;\n",
       "    }\n",
       "\n",
       "    .dataframe thead th {\n",
       "        text-align: right;\n",
       "    }\n",
       "</style>\n",
       "<table border=\"1\" class=\"dataframe\">\n",
       "  <thead>\n",
       "    <tr style=\"text-align: right;\">\n",
       "      <th></th>\n",
       "      <th>Text</th>\n",
       "      <th>Label</th>\n",
       "    </tr>\n",
       "  </thead>\n",
       "  <tbody>\n",
       "    <tr>\n",
       "      <th>0</th>\n",
       "      <td>how do i fill a dataset or a datatable from a ...</td>\n",
       "      <td>18</td>\n",
       "    </tr>\n",
       "    <tr>\n",
       "      <th>1</th>\n",
       "      <td>how do you page a collection with linq</td>\n",
       "      <td>18</td>\n",
       "    </tr>\n",
       "    <tr>\n",
       "      <th>2</th>\n",
       "      <td>best subversion clients for windows vista bit</td>\n",
       "      <td>3</td>\n",
       "    </tr>\n",
       "    <tr>\n",
       "      <th>3</th>\n",
       "      <td>best practice collaborative environment bin di...</td>\n",
       "      <td>3</td>\n",
       "    </tr>\n",
       "    <tr>\n",
       "      <th>4</th>\n",
       "      <td>visual studio setup project per user registry ...</td>\n",
       "      <td>7</td>\n",
       "    </tr>\n",
       "  </tbody>\n",
       "</table>\n",
       "</div>"
      ],
      "text/plain": [
       "                                                Text  Label\n",
       "0  how do i fill a dataset or a datatable from a ...     18\n",
       "1            how do you page a collection with linq      18\n",
       "2     best subversion clients for windows vista bit       3\n",
       "3  best practice collaborative environment bin di...      3\n",
       "4  visual studio setup project per user registry ...      7"
      ]
     },
     "execution_count": 82,
     "metadata": {},
     "output_type": "execute_result"
    }
   ],
   "source": [
    "df.head()"
   ]
  },
  {
   "cell_type": "markdown",
   "metadata": {},
   "source": [
    "# Prepare the data"
   ]
  },
  {
   "cell_type": "code",
   "execution_count": 83,
   "metadata": {
    "ExecuteTime": {
     "end_time": "2019-09-09T14:58:56.658079Z",
     "start_time": "2019-09-09T14:58:56.653833Z"
    }
   },
   "outputs": [],
   "source": [
    "num_classes = 2\n",
    "sample_size = 50"
   ]
  },
  {
   "cell_type": "code",
   "execution_count": 84,
   "metadata": {
    "ExecuteTime": {
     "end_time": "2019-09-09T14:58:57.384780Z",
     "start_time": "2019-09-09T14:58:57.373308Z"
    }
   },
   "outputs": [],
   "source": [
    "# Generate samples that contains K samples of each class\n",
    "\n",
    "def gen_sample(sample_size, num_classes):\n",
    "    \n",
    "    df_1 = df[(df[\"Label\"]<num_classes + 1)].reset_index().drop([\"index\"], axis=1).reset_index().drop([\"index\"], axis=1)\n",
    "    train = df_1[df_1[\"Label\"] == np.unique(df_1['Label'])[0]].sample(sample_size)\n",
    "    \n",
    "    train_index = train.index.tolist()\n",
    "    \n",
    "    for i in range(1,num_classes):\n",
    "        train_2 = df_1[df_1[\"Label\"] == np.unique(df_1['Label'])[i]].sample(sample_size)\n",
    "        train = pd.concat([train, train_2], axis=0)\n",
    "        train_index.extend(train_2.index.tolist())\n",
    "        \n",
    "    test = df_1[~df_1.index.isin(train_index)]\n",
    "\n",
    "    return train, test"
   ]
  },
  {
   "cell_type": "code",
   "execution_count": 85,
   "metadata": {
    "ExecuteTime": {
     "end_time": "2019-09-09T14:58:57.743986Z",
     "start_time": "2019-09-09T14:58:57.734221Z"
    }
   },
   "outputs": [],
   "source": [
    "# Text processing (split, find token id, get embedidng)\n",
    "\n",
    "def transform_sentence(text, model):\n",
    "    \n",
    "    \"\"\"\n",
    "    Mean embedding vector\n",
    "    \"\"\"\n",
    "    \n",
    "    def preprocess_text(raw_text, model=model):\n",
    "        \n",
    "        \"\"\" \n",
    "        Eexcluding unknown words and get corresponding token\n",
    "        \"\"\"\n",
    "        \n",
    "        raw_text = raw_text.split()\n",
    "        \n",
    "        return list(filter(lambda x: x in model.vocab, raw_text))\n",
    "    \n",
    "    tokens = preprocess_text(text)\n",
    "    \n",
    "    if not tokens:\n",
    "        return np.zeros(model.vector_size)\n",
    "\n",
    "    text_vector = np.mean(model[tokens], axis=0)\n",
    "    \n",
    "    return np.array(text_vector)"
   ]
  },
  {
   "cell_type": "code",
   "execution_count": 86,
   "metadata": {
    "ExecuteTime": {
     "end_time": "2019-09-09T14:58:58.168615Z",
     "start_time": "2019-09-09T14:58:58.153237Z"
    }
   },
   "outputs": [],
   "source": [
    "train, test = gen_sample(sample_size, num_classes)"
   ]
  },
  {
   "cell_type": "code",
   "execution_count": 87,
   "metadata": {
    "ExecuteTime": {
     "end_time": "2019-09-09T14:58:58.364233Z",
     "start_time": "2019-09-09T14:58:58.347980Z"
    },
    "scrolled": true
   },
   "outputs": [
    {
     "data": {
      "text/html": [
       "<div>\n",
       "<style scoped>\n",
       "    .dataframe tbody tr th:only-of-type {\n",
       "        vertical-align: middle;\n",
       "    }\n",
       "\n",
       "    .dataframe tbody tr th {\n",
       "        vertical-align: top;\n",
       "    }\n",
       "\n",
       "    .dataframe thead th {\n",
       "        text-align: right;\n",
       "    }\n",
       "</style>\n",
       "<table border=\"1\" class=\"dataframe\">\n",
       "  <thead>\n",
       "    <tr style=\"text-align: right;\">\n",
       "      <th></th>\n",
       "      <th>Text</th>\n",
       "      <th>Label</th>\n",
       "    </tr>\n",
       "  </thead>\n",
       "  <tbody>\n",
       "    <tr>\n",
       "      <th>1521</th>\n",
       "      <td>how to get wordpress page id after looping posts</td>\n",
       "      <td>1</td>\n",
       "    </tr>\n",
       "    <tr>\n",
       "      <th>1737</th>\n",
       "      <td>using wp query to pull content from a specific...</td>\n",
       "      <td>1</td>\n",
       "    </tr>\n",
       "    <tr>\n",
       "      <th>1740</th>\n",
       "      <td>wordpress how to show just posts on main index</td>\n",
       "      <td>1</td>\n",
       "    </tr>\n",
       "    <tr>\n",
       "      <th>1660</th>\n",
       "      <td>wordpress is it possible to make one particula...</td>\n",
       "      <td>1</td>\n",
       "    </tr>\n",
       "    <tr>\n",
       "      <th>1411</th>\n",
       "      <td>exclude templates in wordpress page</td>\n",
       "      <td>1</td>\n",
       "    </tr>\n",
       "    <tr>\n",
       "      <th>1678</th>\n",
       "      <td>wierd date and time formating in wordpress y m d</td>\n",
       "      <td>1</td>\n",
       "    </tr>\n",
       "    <tr>\n",
       "      <th>1626</th>\n",
       "      <td>wordpress custom post type templates</td>\n",
       "      <td>1</td>\n",
       "    </tr>\n",
       "    <tr>\n",
       "      <th>1513</th>\n",
       "      <td>inserting wordpress plugin content to posts</td>\n",
       "      <td>1</td>\n",
       "    </tr>\n",
       "    <tr>\n",
       "      <th>1859</th>\n",
       "      <td>how can i delay one feed in wordpress but not ...</td>\n",
       "      <td>1</td>\n",
       "    </tr>\n",
       "    <tr>\n",
       "      <th>1072</th>\n",
       "      <td>how can i remove jquery from the frontside of ...</td>\n",
       "      <td>1</td>\n",
       "    </tr>\n",
       "    <tr>\n",
       "      <th>1811</th>\n",
       "      <td>wordpress calling recent posts widget via scri...</td>\n",
       "      <td>1</td>\n",
       "    </tr>\n",
       "    <tr>\n",
       "      <th>721</th>\n",
       "      <td>debuging register activation hook in wordpress</td>\n",
       "      <td>1</td>\n",
       "    </tr>\n",
       "    <tr>\n",
       "      <th>1636</th>\n",
       "      <td>testing pluggable function calls clashes for w...</td>\n",
       "      <td>1</td>\n",
       "    </tr>\n",
       "    <tr>\n",
       "      <th>1973</th>\n",
       "      <td>would it be quicker to make wordpress theme di...</td>\n",
       "      <td>1</td>\n",
       "    </tr>\n",
       "    <tr>\n",
       "      <th>1938</th>\n",
       "      <td>how to find and clean wordpress from script s ...</td>\n",
       "      <td>1</td>\n",
       "    </tr>\n",
       "    <tr>\n",
       "      <th>1899</th>\n",
       "      <td>wordpress set post date</td>\n",
       "      <td>1</td>\n",
       "    </tr>\n",
       "    <tr>\n",
       "      <th>1280</th>\n",
       "      <td>wordpress add comment like stackoverflow</td>\n",
       "      <td>1</td>\n",
       "    </tr>\n",
       "    <tr>\n",
       "      <th>1883</th>\n",
       "      <td>wordpress nav not visible in pages like articl...</td>\n",
       "      <td>1</td>\n",
       "    </tr>\n",
       "    <tr>\n",
       "      <th>1761</th>\n",
       "      <td>wordpress development</td>\n",
       "      <td>1</td>\n",
       "    </tr>\n",
       "    <tr>\n",
       "      <th>1319</th>\n",
       "      <td>wordpress static pages how to embed content in...</td>\n",
       "      <td>1</td>\n",
       "    </tr>\n",
       "    <tr>\n",
       "      <th>1549</th>\n",
       "      <td>filtering search results with wordpress</td>\n",
       "      <td>1</td>\n",
       "    </tr>\n",
       "    <tr>\n",
       "      <th>1174</th>\n",
       "      <td>drop down js menu blinking in ie</td>\n",
       "      <td>1</td>\n",
       "    </tr>\n",
       "    <tr>\n",
       "      <th>1371</th>\n",
       "      <td>wrap stray text in p tags</td>\n",
       "      <td>1</td>\n",
       "    </tr>\n",
       "    <tr>\n",
       "      <th>1527</th>\n",
       "      <td>wordpress menu of categories</td>\n",
       "      <td>1</td>\n",
       "    </tr>\n",
       "    <tr>\n",
       "      <th>1210</th>\n",
       "      <td>wordpress menu with superslide show</td>\n",
       "      <td>1</td>\n",
       "    </tr>\n",
       "    <tr>\n",
       "      <th>1235</th>\n",
       "      <td>getting post information outside the wordpress...</td>\n",
       "      <td>1</td>\n",
       "    </tr>\n",
       "    <tr>\n",
       "      <th>872</th>\n",
       "      <td>why cant i include a blog</td>\n",
       "      <td>1</td>\n",
       "    </tr>\n",
       "    <tr>\n",
       "      <th>1986</th>\n",
       "      <td>d slideshow for wordpress and url file access ...</td>\n",
       "      <td>1</td>\n",
       "    </tr>\n",
       "    <tr>\n",
       "      <th>1902</th>\n",
       "      <td>submit wordpress form programmatically</td>\n",
       "      <td>1</td>\n",
       "    </tr>\n",
       "    <tr>\n",
       "      <th>1947</th>\n",
       "      <td>move wordpress from home web server to web ser...</td>\n",
       "      <td>1</td>\n",
       "    </tr>\n",
       "    <tr>\n",
       "      <th>...</th>\n",
       "      <td>...</td>\n",
       "      <td>...</td>\n",
       "    </tr>\n",
       "    <tr>\n",
       "      <th>99</th>\n",
       "      <td>how to use sqlab xpert tuning to tune sql for ...</td>\n",
       "      <td>2</td>\n",
       "    </tr>\n",
       "    <tr>\n",
       "      <th>54</th>\n",
       "      <td>oracle connection problem on mac osx status fa...</td>\n",
       "      <td>2</td>\n",
       "    </tr>\n",
       "    <tr>\n",
       "      <th>923</th>\n",
       "      <td>xaconnection performance in oracle g</td>\n",
       "      <td>2</td>\n",
       "    </tr>\n",
       "    <tr>\n",
       "      <th>978</th>\n",
       "      <td>what is the pl sql api difference between orac...</td>\n",
       "      <td>2</td>\n",
       "    </tr>\n",
       "    <tr>\n",
       "      <th>504</th>\n",
       "      <td>how do i call an oracle function from oci</td>\n",
       "      <td>2</td>\n",
       "    </tr>\n",
       "    <tr>\n",
       "      <th>63</th>\n",
       "      <td>explain plan cost vs execution time</td>\n",
       "      <td>2</td>\n",
       "    </tr>\n",
       "    <tr>\n",
       "      <th>74</th>\n",
       "      <td>user interface for creating oracle sql loader ...</td>\n",
       "      <td>2</td>\n",
       "    </tr>\n",
       "    <tr>\n",
       "      <th>518</th>\n",
       "      <td>is it possible to refer to column names via bi...</td>\n",
       "      <td>2</td>\n",
       "    </tr>\n",
       "    <tr>\n",
       "      <th>1117</th>\n",
       "      <td>can i run an arbitrary oracle sql script throu...</td>\n",
       "      <td>2</td>\n",
       "    </tr>\n",
       "    <tr>\n",
       "      <th>463</th>\n",
       "      <td>oracle logon protocol o logon in g</td>\n",
       "      <td>2</td>\n",
       "    </tr>\n",
       "    <tr>\n",
       "      <th>255</th>\n",
       "      <td>databases oracle</td>\n",
       "      <td>2</td>\n",
       "    </tr>\n",
       "    <tr>\n",
       "      <th>968</th>\n",
       "      <td>resultset logic when selecting tables without ...</td>\n",
       "      <td>2</td>\n",
       "    </tr>\n",
       "    <tr>\n",
       "      <th>537</th>\n",
       "      <td>oracle stored procedures sys refcursor and nhi...</td>\n",
       "      <td>2</td>\n",
       "    </tr>\n",
       "    <tr>\n",
       "      <th>235</th>\n",
       "      <td>oracle express edition can not connect remotel...</td>\n",
       "      <td>2</td>\n",
       "    </tr>\n",
       "    <tr>\n",
       "      <th>1051</th>\n",
       "      <td>performance of remote materialized views in or...</td>\n",
       "      <td>2</td>\n",
       "    </tr>\n",
       "    <tr>\n",
       "      <th>1065</th>\n",
       "      <td>merge output cursor of sp into table</td>\n",
       "      <td>2</td>\n",
       "    </tr>\n",
       "    <tr>\n",
       "      <th>277</th>\n",
       "      <td>oracle logon trigger not being fired</td>\n",
       "      <td>2</td>\n",
       "    </tr>\n",
       "    <tr>\n",
       "      <th>453</th>\n",
       "      <td>understanding lob segments sys lob in oracle</td>\n",
       "      <td>2</td>\n",
       "    </tr>\n",
       "    <tr>\n",
       "      <th>838</th>\n",
       "      <td>oracle database character set issue with the a...</td>\n",
       "      <td>2</td>\n",
       "    </tr>\n",
       "    <tr>\n",
       "      <th>709</th>\n",
       "      <td>finding the days of the week within a date ran...</td>\n",
       "      <td>2</td>\n",
       "    </tr>\n",
       "    <tr>\n",
       "      <th>591</th>\n",
       "      <td>how to convert sql server to oracle</td>\n",
       "      <td>2</td>\n",
       "    </tr>\n",
       "    <tr>\n",
       "      <th>48</th>\n",
       "      <td>how can i avoid ta warning fom an unused param...</td>\n",
       "      <td>2</td>\n",
       "    </tr>\n",
       "    <tr>\n",
       "      <th>786</th>\n",
       "      <td>oracle hierarchical query how to include top l...</td>\n",
       "      <td>2</td>\n",
       "    </tr>\n",
       "    <tr>\n",
       "      <th>318</th>\n",
       "      <td>oracle record history using as of timestamp wi...</td>\n",
       "      <td>2</td>\n",
       "    </tr>\n",
       "    <tr>\n",
       "      <th>515</th>\n",
       "      <td>how to call a function with rowtype parameter ...</td>\n",
       "      <td>2</td>\n",
       "    </tr>\n",
       "    <tr>\n",
       "      <th>33</th>\n",
       "      <td>ssis oracle parameter mapping</td>\n",
       "      <td>2</td>\n",
       "    </tr>\n",
       "    <tr>\n",
       "      <th>434</th>\n",
       "      <td>multi line pl sql command with net oraclecommand</td>\n",
       "      <td>2</td>\n",
       "    </tr>\n",
       "    <tr>\n",
       "      <th>577</th>\n",
       "      <td>read write data from to a file in pl sql witho...</td>\n",
       "      <td>2</td>\n",
       "    </tr>\n",
       "    <tr>\n",
       "      <th>327</th>\n",
       "      <td>oracle sql parsing a name string and convertin...</td>\n",
       "      <td>2</td>\n",
       "    </tr>\n",
       "    <tr>\n",
       "      <th>830</th>\n",
       "      <td>oracle optimizing query involving date calcula...</td>\n",
       "      <td>2</td>\n",
       "    </tr>\n",
       "  </tbody>\n",
       "</table>\n",
       "<p>100 rows × 2 columns</p>\n",
       "</div>"
      ],
      "text/plain": [
       "                                                   Text  Label\n",
       "1521  how to get wordpress page id after looping posts       1\n",
       "1737  using wp query to pull content from a specific...      1\n",
       "1740     wordpress how to show just posts on main index      1\n",
       "1660  wordpress is it possible to make one particula...      1\n",
       "1411                exclude templates in wordpress page      1\n",
       "1678   wierd date and time formating in wordpress y m d      1\n",
       "1626               wordpress custom post type templates      1\n",
       "1513        inserting wordpress plugin content to posts      1\n",
       "1859  how can i delay one feed in wordpress but not ...      1\n",
       "1072  how can i remove jquery from the frontside of ...      1\n",
       "1811  wordpress calling recent posts widget via scri...      1\n",
       "721      debuging register activation hook in wordpress      1\n",
       "1636  testing pluggable function calls clashes for w...      1\n",
       "1973  would it be quicker to make wordpress theme di...      1\n",
       "1938  how to find and clean wordpress from script s ...      1\n",
       "1899                            wordpress set post date      1\n",
       "1280           wordpress add comment like stackoverflow      1\n",
       "1883  wordpress nav not visible in pages like articl...      1\n",
       "1761                             wordpress development       1\n",
       "1319  wordpress static pages how to embed content in...      1\n",
       "1549            filtering search results with wordpress      1\n",
       "1174                  drop down js menu blinking in ie       1\n",
       "1371                          wrap stray text in p tags      1\n",
       "1527                       wordpress menu of categories      1\n",
       "1210                wordpress menu with superslide show      1\n",
       "1235  getting post information outside the wordpress...      1\n",
       "872                          why cant i include a blog       1\n",
       "1986  d slideshow for wordpress and url file access ...      1\n",
       "1902             submit wordpress form programmatically      1\n",
       "1947  move wordpress from home web server to web ser...      1\n",
       "...                                                 ...    ...\n",
       "99    how to use sqlab xpert tuning to tune sql for ...      2\n",
       "54    oracle connection problem on mac osx status fa...      2\n",
       "923               xaconnection performance in oracle g       2\n",
       "978   what is the pl sql api difference between orac...      2\n",
       "504          how do i call an oracle function from oci       2\n",
       "63                  explain plan cost vs execution time      2\n",
       "74    user interface for creating oracle sql loader ...      2\n",
       "518   is it possible to refer to column names via bi...      2\n",
       "1117  can i run an arbitrary oracle sql script throu...      2\n",
       "463                  oracle logon protocol o logon in g      2\n",
       "255                                    databases oracle      2\n",
       "968   resultset logic when selecting tables without ...      2\n",
       "537   oracle stored procedures sys refcursor and nhi...      2\n",
       "235   oracle express edition can not connect remotel...      2\n",
       "1051  performance of remote materialized views in or...      2\n",
       "1065              merge output cursor of sp into table       2\n",
       "277               oracle logon trigger not being fired       2\n",
       "453       understanding lob segments sys lob in oracle       2\n",
       "838   oracle database character set issue with the a...      2\n",
       "709   finding the days of the week within a date ran...      2\n",
       "591                how to convert sql server to oracle       2\n",
       "48    how can i avoid ta warning fom an unused param...      2\n",
       "786   oracle hierarchical query how to include top l...      2\n",
       "318   oracle record history using as of timestamp wi...      2\n",
       "515   how to call a function with rowtype parameter ...      2\n",
       "33                        ssis oracle parameter mapping      2\n",
       "434    multi line pl sql command with net oraclecommand      2\n",
       "577   read write data from to a file in pl sql witho...      2\n",
       "327   oracle sql parsing a name string and convertin...      2\n",
       "830   oracle optimizing query involving date calcula...      2\n",
       "\n",
       "[100 rows x 2 columns]"
      ]
     },
     "execution_count": 87,
     "metadata": {},
     "output_type": "execute_result"
    }
   ],
   "source": [
    "train"
   ]
  },
  {
   "cell_type": "code",
   "execution_count": 88,
   "metadata": {
    "ExecuteTime": {
     "end_time": "2019-09-09T14:58:58.531127Z",
     "start_time": "2019-09-09T14:58:58.524980Z"
    }
   },
   "outputs": [
    {
     "data": {
      "text/plain": [
       "(100, 2)"
      ]
     },
     "execution_count": 88,
     "metadata": {},
     "output_type": "execute_result"
    }
   ],
   "source": [
    "train.shape"
   ]
  },
  {
   "cell_type": "code",
   "execution_count": 89,
   "metadata": {
    "ExecuteTime": {
     "end_time": "2019-09-09T14:58:59.094632Z",
     "start_time": "2019-09-09T14:58:58.727871Z"
    }
   },
   "outputs": [],
   "source": [
    "X_train = train['Text']\n",
    "y_train = train['Label'].values\n",
    "X_test = test['Text']\n",
    "y_test = test['Label'].values\n",
    "\n",
    "X_train_mean = X_train.apply(lambda x : transform_sentence(x, model2))\n",
    "X_test_mean = X_test.apply(lambda x : transform_sentence(x, model2))\n",
    "\n",
    "X_train_mean = pd.DataFrame(X_train_mean)['Text'].apply(pd.Series)\n",
    "X_test_mean = pd.DataFrame(X_test_mean)['Text'].apply(pd.Series)"
   ]
  },
  {
   "cell_type": "markdown",
   "metadata": {},
   "source": [
    "# Data Augmentation"
   ]
  },
  {
   "cell_type": "markdown",
   "metadata": {},
   "source": [
    "## Replace words"
   ]
  },
  {
   "cell_type": "code",
   "execution_count": 90,
   "metadata": {
    "ExecuteTime": {
     "end_time": "2019-09-09T14:58:59.333032Z",
     "start_time": "2019-09-09T14:58:59.298243Z"
    }
   },
   "outputs": [],
   "source": [
    "def get_synonyms(word):\n",
    "    \n",
    "    synonyms = set()\n",
    "    \n",
    "    for syn in wordnet.synsets(word): \n",
    "        for l in syn.lemmas(): \n",
    "            synonym = l.name().replace(\"_\", \" \").replace(\"-\", \" \").lower()\n",
    "            synonym = \"\".join([char for char in synonym if char in ' qwertyuiopasdfghjklzxcvbnm'])\n",
    "            synonyms.add(synonym) \n",
    "    \n",
    "    if word in synonyms:\n",
    "        synonyms.remove(word)\n",
    "    \n",
    "    return list(synonyms)\n",
    "\n",
    "def synonym_replacement(words, n):\n",
    "    \n",
    "    words = words.split()\n",
    "    \n",
    "    new_words = words.copy()\n",
    "    random_word_list = list(set([word for word in words if word not in stop_words]))\n",
    "    random.shuffle(random_word_list)\n",
    "    num_replaced = 0\n",
    "    \n",
    "    for random_word in random_word_list:\n",
    "        synonyms = get_synonyms(random_word)\n",
    "        \n",
    "        if len(synonyms) >= 1:\n",
    "            synonym = random.choice(list(synonyms))\n",
    "            new_words = [synonym if word == random_word else word for word in new_words]\n",
    "            #print(\"replaced\", random_word, \"with\", synonym)\n",
    "            num_replaced += 1\n",
    "        \n",
    "        if num_replaced >= n: #only replace up to n words\n",
    "            break\n",
    "\n",
    "    sentence = ' '.join(new_words)\n",
    "\n",
    "    return sentence\n",
    "\n",
    "def iterative_replace(df):\n",
    "    \n",
    "    df = df.reset_index().drop(['index'], axis=1)\n",
    "    index_row = df.index\n",
    "    df_2 = pd.DataFrame()\n",
    "    \n",
    "    for row in index_row:\n",
    "        for k in range(1,6):\n",
    "            df_2 = df_2.append({'Text':synonym_replacement(df.loc[row]['Text'], k), 'Label':df.loc[row]['Label']}, ignore_index=True)\n",
    "    return df_2"
   ]
  },
  {
   "cell_type": "markdown",
   "metadata": {},
   "source": [
    "## Delete words"
   ]
  },
  {
   "cell_type": "code",
   "execution_count": 91,
   "metadata": {
    "ExecuteTime": {
     "end_time": "2019-09-09T14:58:59.695868Z",
     "start_time": "2019-09-09T14:58:59.675230Z"
    }
   },
   "outputs": [],
   "source": [
    "def random_deletion(words, p):\n",
    "\n",
    "    words = words.split()\n",
    "    \n",
    "    #obviously, if there's only one word, don't delete it\n",
    "    if len(words) == 1:\n",
    "        return words\n",
    "\n",
    "    #randomly delete words with probability p\n",
    "    new_words = []\n",
    "    for word in words:\n",
    "        r = random.uniform(0, 1)\n",
    "        if r > p:\n",
    "            new_words.append(word)\n",
    "\n",
    "    #if you end up deleting all words, just return a random word\n",
    "    if len(new_words) == 0:\n",
    "        rand_int = random.randint(0, len(words)-1)\n",
    "        return [words[rand_int]]\n",
    "\n",
    "    sentence = ' '.join(new_words)\n",
    "    \n",
    "    return sentence\n",
    "\n",
    "def iterative_delete(df):\n",
    "    \n",
    "    df = df.reset_index().drop(['index'], axis=1)\n",
    "    index_row = df.index\n",
    "    df_2 = pd.DataFrame()\n",
    "    \n",
    "    for row in index_row:\n",
    "        df_2 = df_2.append({'Text':random_deletion(df.loc[row]['Text'], 0.25), 'Label':df.loc[row]['Label']}, ignore_index=True)\n",
    "    return df_2"
   ]
  },
  {
   "cell_type": "markdown",
   "metadata": {},
   "source": [
    "## Random Swap"
   ]
  },
  {
   "cell_type": "code",
   "execution_count": 92,
   "metadata": {
    "ExecuteTime": {
     "end_time": "2019-09-09T14:59:00.168295Z",
     "start_time": "2019-09-09T14:59:00.144499Z"
    }
   },
   "outputs": [],
   "source": [
    "def random_swap(words, n):\n",
    "    \n",
    "    words = words.split()\n",
    "    new_words = words.copy()\n",
    "    \n",
    "    for _ in range(n):\n",
    "        new_words = swap_word(new_words)\n",
    "        \n",
    "    sentence = ' '.join(new_words)\n",
    "    \n",
    "    return sentence\n",
    "\n",
    "def swap_word(new_words):\n",
    "    \n",
    "    random_idx_1 = random.randint(0, len(new_words)-1)\n",
    "    random_idx_2 = random_idx_1\n",
    "    counter = 0\n",
    "    \n",
    "    while random_idx_2 == random_idx_1:\n",
    "        random_idx_2 = random.randint(0, len(new_words)-1)\n",
    "        counter += 1\n",
    "        \n",
    "        if counter > 3:\n",
    "            return new_words\n",
    "    \n",
    "    new_words[random_idx_1], new_words[random_idx_2] = new_words[random_idx_2], new_words[random_idx_1] \n",
    "    return new_words\n",
    "\n",
    "def iterative_swap(df):\n",
    "    \n",
    "    df = df.reset_index().drop(['index'], axis=1)\n",
    "    index_row = df.index\n",
    "    df_2 = pd.DataFrame()\n",
    "    for row in index_row:\n",
    "        df_2 = df_2.append({'Text':random_swap(df.loc[row]['Text'], 2), 'Label':df.loc[row]['Label']}, ignore_index=True)\n",
    "    return df_2"
   ]
  },
  {
   "cell_type": "markdown",
   "metadata": {},
   "source": [
    "## Random Insertion"
   ]
  },
  {
   "cell_type": "code",
   "execution_count": 93,
   "metadata": {
    "ExecuteTime": {
     "end_time": "2019-09-09T14:59:01.181955Z",
     "start_time": "2019-09-09T14:59:01.152899Z"
    }
   },
   "outputs": [],
   "source": [
    "def random_insertion(words, n):\n",
    "    \n",
    "    words = words.split()\n",
    "    new_words = words.copy()\n",
    "    \n",
    "    for _ in range(n):\n",
    "        add_word(new_words)\n",
    "        \n",
    "    sentence = ' '.join(new_words)\n",
    "    return sentence\n",
    "\n",
    "def add_word(new_words):\n",
    "    \n",
    "    synonyms = []\n",
    "    counter = 0\n",
    "    \n",
    "    while len(synonyms) < 1:\n",
    "        random_word = new_words[random.randint(0, len(new_words)-1)]\n",
    "        synonyms = get_synonyms(random_word)\n",
    "        counter += 1\n",
    "        if counter >= 10:\n",
    "            return\n",
    "        \n",
    "    random_synonym = synonyms[0]\n",
    "    random_idx = random.randint(0, len(new_words)-1)\n",
    "    new_words.insert(random_idx, random_synonym)\n",
    "    \n",
    "def iterative_insert(df):\n",
    "    \n",
    "    df = df.reset_index().drop(['index'], axis=1)\n",
    "    index_row = df.index\n",
    "    df_2 = pd.DataFrame()\n",
    "    \n",
    "    for row in index_row:\n",
    "        df_2 = df_2.append({'Text':random_insertion(df.loc[row]['Text'], 2), 'Label':df.loc[row]['Label']}, ignore_index=True)\n",
    "        \n",
    "    return df_2"
   ]
  },
  {
   "cell_type": "markdown",
   "metadata": {},
   "source": [
    "## Data Augmentation"
   ]
  },
  {
   "cell_type": "code",
   "execution_count": 94,
   "metadata": {
    "ExecuteTime": {
     "end_time": "2019-09-09T14:59:04.924959Z",
     "start_time": "2019-09-09T14:59:03.141470Z"
    }
   },
   "outputs": [
    {
     "name": "stderr",
     "output_type": "stream",
     "text": [
      "/anaconda3/lib/python3.6/site-packages/ipykernel_launcher.py:6: FutureWarning: Sorting because non-concatenation axis is not aligned. A future version\n",
      "of pandas will change to not sort by default.\n",
      "\n",
      "To accept the future behavior, pass 'sort=False'.\n",
      "\n",
      "To retain the current behavior and silence the warning, pass 'sort=True'.\n",
      "\n",
      "  \n"
     ]
    }
   ],
   "source": [
    "df_replace = iterative_replace(train)\n",
    "df_delete = iterative_delete(train)\n",
    "df_swap = iterative_swap(train)\n",
    "df_insert = iterative_insert(train)\n",
    "\n",
    "train = pd.concat([train, df_replace, df_delete, df_swap, df_insert], axis=0).reset_index().drop(['index'], axis=1)"
   ]
  },
  {
   "cell_type": "code",
   "execution_count": 95,
   "metadata": {
    "ExecuteTime": {
     "end_time": "2019-09-09T14:59:06.350551Z",
     "start_time": "2019-09-09T14:59:05.829293Z"
    }
   },
   "outputs": [],
   "source": [
    "X_train = train['Text']\n",
    "y_train = train['Label'].values\n",
    "X_test = test['Text']\n",
    "y_test = test['Label'].values\n",
    "\n",
    "X_train_mean = X_train.apply(lambda x : transform_sentence(x, model2))\n",
    "X_test_mean = X_test.apply(lambda x : transform_sentence(x, model2))\n",
    "\n",
    "X_train_mean = pd.DataFrame(X_train_mean)['Text'].apply(pd.Series)\n",
    "X_test_mean = pd.DataFrame(X_test_mean)['Text'].apply(pd.Series)"
   ]
  },
  {
   "cell_type": "markdown",
   "metadata": {},
   "source": [
    "# DL Pipeline"
   ]
  },
  {
   "cell_type": "code",
   "execution_count": 110,
   "metadata": {
    "ExecuteTime": {
     "end_time": "2019-09-09T15:10:26.318196Z",
     "start_time": "2019-09-09T15:10:26.283355Z"
    }
   },
   "outputs": [],
   "source": [
    "def whole_pipeline(sample_size, num_classes=2):\n",
    "    \n",
    "    train, test = gen_sample(sample_size, num_classes)\n",
    "    \n",
    "    df_replace = iterative_replace(train)\n",
    "    df_delete = iterative_delete(train)\n",
    "    df_swap = iterative_swap(train)\n",
    "    df_insert = iterative_insert(train)\n",
    "\n",
    "    train = pd.concat([train, df_replace, df_delete, df_swap, df_insert], axis=0).reset_index().drop(['index'], axis=1)\n",
    "    \n",
    "    X_train = train['Text']\n",
    "    y_train = train['Label'].values\n",
    "    X_test = test['Text']\n",
    "    y_test = test['Label'].values\n",
    "    \n",
    "    max_words = 1000\n",
    "    max_len = 1000\n",
    "    tok = Tokenizer(num_words=max_words)\n",
    "    tok.fit_on_texts(train.Text)\n",
    "    \n",
    "    sequences = tok.texts_to_sequences(X_train)\n",
    "    sequences_matrix = sequence.pad_sequences(sequences,maxlen=max_len)\n",
    "    \n",
    "    def build_base_model():\n",
    "    \n",
    "        \"\"\"\n",
    "        Builds a model according to the architecture defined in `hparams`.\n",
    "        \"\"\"\n",
    "\n",
    "        model = tf.keras.Sequential([\n",
    "        tf.keras.layers.Embedding(max_len, 64),\n",
    "        tf.keras.layers.Bidirectional(tf.keras.layers.LSTM(64)),\n",
    "        tf.keras.layers.Dense(64, activation='relu'),\n",
    "        tf.keras.layers.Dense(1, activation='sigmoid')\n",
    "        ])\n",
    "\n",
    "        return model\n",
    "\n",
    "    model = build_base_model()\n",
    "\n",
    "    model.compile(loss='binary_crossentropy',\n",
    "                  optimizer='adam',\n",
    "                  metrics=['accuracy'])\n",
    "\n",
    "    history = model.fit(sequences_matrix, y_train-1, validation_split=0.2, batch_size=16, epochs=5)\n",
    "\n",
    "    test_sequences = tok.texts_to_sequences(test.Text)\n",
    "    test_sequences_matrix = sequence.pad_sequences(test_sequences,maxlen=max_len)\n",
    "    \n",
    "    y_pred = model.predict(test_sequences_matrix)\n",
    "    \n",
    "    return accuracy_score(np.round(y_pred), test['Label']-1)"
   ]
  },
  {
   "cell_type": "code",
   "execution_count": 111,
   "metadata": {
    "ExecuteTime": {
     "end_time": "2019-09-09T15:22:14.474255Z",
     "start_time": "2019-09-09T15:10:28.403881Z"
    }
   },
   "outputs": [
    {
     "name": "stderr",
     "output_type": "stream",
     "text": [
      "/anaconda3/lib/python3.6/site-packages/ipykernel_launcher.py:10: FutureWarning: Sorting because non-concatenation axis is not aligned. A future version\n",
      "of pandas will change to not sort by default.\n",
      "\n",
      "To accept the future behavior, pass 'sort=False'.\n",
      "\n",
      "To retain the current behavior and silence the warning, pass 'sort=True'.\n",
      "\n",
      "  # Remove the CWD from sys.path while we load stuff.\n"
     ]
    },
    {
     "name": "stdout",
     "output_type": "stream",
     "text": [
      "Train on 43 samples, validate on 11 samples\n",
      "Epoch 1/5\n",
      "43/43 [==============================] - 6s 138ms/sample - loss: 0.6900 - accuracy: 0.7209 - val_loss: 0.6821 - val_accuracy: 1.0000\n",
      "Epoch 2/5\n",
      "43/43 [==============================] - 2s 47ms/sample - loss: 0.6792 - accuracy: 0.9535 - val_loss: 0.6699 - val_accuracy: 1.0000\n",
      "Epoch 3/5\n",
      "43/43 [==============================] - 2s 47ms/sample - loss: 0.6665 - accuracy: 0.9767 - val_loss: 0.6522 - val_accuracy: 1.0000\n",
      "Epoch 4/5\n",
      "43/43 [==============================] - 2s 53ms/sample - loss: 0.6464 - accuracy: 1.0000 - val_loss: 0.6259 - val_accuracy: 1.0000\n",
      "Epoch 5/5\n",
      "43/43 [==============================] - 3s 63ms/sample - loss: 0.6151 - accuracy: 1.0000 - val_loss: 0.5813 - val_accuracy: 1.0000\n"
     ]
    },
    {
     "name": "stderr",
     "output_type": "stream",
     "text": [
      "/anaconda3/lib/python3.6/site-packages/ipykernel_launcher.py:10: FutureWarning: Sorting because non-concatenation axis is not aligned. A future version\n",
      "of pandas will change to not sort by default.\n",
      "\n",
      "To accept the future behavior, pass 'sort=False'.\n",
      "\n",
      "To retain the current behavior and silence the warning, pass 'sort=True'.\n",
      "\n",
      "  # Remove the CWD from sys.path while we load stuff.\n"
     ]
    },
    {
     "name": "stdout",
     "output_type": "stream",
     "text": [
      "Train on 72 samples, validate on 18 samples\n",
      "Epoch 1/5\n",
      "72/72 [==============================] - 9s 123ms/sample - loss: 0.6922 - accuracy: 0.4583 - val_loss: 0.6856 - val_accuracy: 0.9444\n",
      "Epoch 2/5\n",
      "72/72 [==============================] - 4s 60ms/sample - loss: 0.6814 - accuracy: 0.6528 - val_loss: 0.6774 - val_accuracy: 0.4444\n",
      "Epoch 3/5\n",
      "72/72 [==============================] - 4s 56ms/sample - loss: 0.6641 - accuracy: 0.5833 - val_loss: 0.6515 - val_accuracy: 0.7778\n",
      "Epoch 4/5\n",
      "72/72 [==============================] - 3s 48ms/sample - loss: 0.6315 - accuracy: 0.7639 - val_loss: 0.5975 - val_accuracy: 0.8889\n",
      "Epoch 5/5\n",
      "72/72 [==============================] - 3s 45ms/sample - loss: 0.5584 - accuracy: 0.9028 - val_loss: 0.4904 - val_accuracy: 1.0000\n"
     ]
    },
    {
     "name": "stderr",
     "output_type": "stream",
     "text": [
      "/anaconda3/lib/python3.6/site-packages/ipykernel_launcher.py:10: FutureWarning: Sorting because non-concatenation axis is not aligned. A future version\n",
      "of pandas will change to not sort by default.\n",
      "\n",
      "To accept the future behavior, pass 'sort=False'.\n",
      "\n",
      "To retain the current behavior and silence the warning, pass 'sort=True'.\n",
      "\n",
      "  # Remove the CWD from sys.path while we load stuff.\n"
     ]
    },
    {
     "name": "stdout",
     "output_type": "stream",
     "text": [
      "Train on 144 samples, validate on 36 samples\n",
      "Epoch 1/5\n",
      "144/144 [==============================] - 12s 80ms/sample - loss: 0.6851 - accuracy: 0.5486 - val_loss: 0.6735 - val_accuracy: 0.5278\n",
      "Epoch 2/5\n",
      "144/144 [==============================] - 7s 50ms/sample - loss: 0.6467 - accuracy: 0.7569 - val_loss: 0.6080 - val_accuracy: 0.7500\n",
      "Epoch 3/5\n",
      "144/144 [==============================] - 7s 51ms/sample - loss: 0.5331 - accuracy: 0.8542 - val_loss: 0.3989 - val_accuracy: 1.0000\n",
      "Epoch 4/5\n",
      "144/144 [==============================] - 8s 57ms/sample - loss: 0.3133 - accuracy: 0.9653 - val_loss: 0.1516 - val_accuracy: 1.0000\n",
      "Epoch 5/5\n",
      "144/144 [==============================] - 7s 46ms/sample - loss: 0.1079 - accuracy: 0.9931 - val_loss: 0.0321 - val_accuracy: 1.0000\n"
     ]
    },
    {
     "name": "stderr",
     "output_type": "stream",
     "text": [
      "/anaconda3/lib/python3.6/site-packages/ipykernel_launcher.py:10: FutureWarning: Sorting because non-concatenation axis is not aligned. A future version\n",
      "of pandas will change to not sort by default.\n",
      "\n",
      "To accept the future behavior, pass 'sort=False'.\n",
      "\n",
      "To retain the current behavior and silence the warning, pass 'sort=True'.\n",
      "\n",
      "  # Remove the CWD from sys.path while we load stuff.\n"
     ]
    },
    {
     "name": "stdout",
     "output_type": "stream",
     "text": [
      "Train on 288 samples, validate on 72 samples\n",
      "Epoch 1/5\n",
      "288/288 [==============================] - 16s 56ms/sample - loss: 0.6908 - accuracy: 0.4896 - val_loss: 0.6767 - val_accuracy: 0.5694\n",
      "Epoch 2/5\n",
      "288/288 [==============================] - 15s 53ms/sample - loss: 0.6095 - accuracy: 0.9618 - val_loss: 0.4548 - val_accuracy: 0.8889\n",
      "Epoch 3/5\n",
      "288/288 [==============================] - 12s 41ms/sample - loss: 0.2920 - accuracy: 0.9306 - val_loss: 0.0403 - val_accuracy: 1.0000\n",
      "Epoch 4/5\n",
      "288/288 [==============================] - 11s 39ms/sample - loss: 0.0783 - accuracy: 1.0000 - val_loss: 0.0313 - val_accuracy: 1.0000\n",
      "Epoch 5/5\n",
      "288/288 [==============================] - 11s 40ms/sample - loss: 0.0266 - accuracy: 1.0000 - val_loss: 0.0115 - val_accuracy: 1.0000\n"
     ]
    },
    {
     "name": "stderr",
     "output_type": "stream",
     "text": [
      "/anaconda3/lib/python3.6/site-packages/ipykernel_launcher.py:10: FutureWarning: Sorting because non-concatenation axis is not aligned. A future version\n",
      "of pandas will change to not sort by default.\n",
      "\n",
      "To accept the future behavior, pass 'sort=False'.\n",
      "\n",
      "To retain the current behavior and silence the warning, pass 'sort=True'.\n",
      "\n",
      "  # Remove the CWD from sys.path while we load stuff.\n"
     ]
    },
    {
     "name": "stdout",
     "output_type": "stream",
     "text": [
      "Train on 720 samples, validate on 180 samples\n",
      "Epoch 1/5\n",
      "720/720 [==============================] - 40s 55ms/sample - loss: 0.6168 - accuracy: 0.7181 - val_loss: 0.2286 - val_accuracy: 0.9944\n",
      "Epoch 2/5\n",
      "720/720 [==============================] - 33s 46ms/sample - loss: 0.1170 - accuracy: 0.9875 - val_loss: 0.0084 - val_accuracy: 1.0000\n",
      "Epoch 3/5\n",
      "720/720 [==============================] - 33s 45ms/sample - loss: 0.0103 - accuracy: 0.9986 - val_loss: 0.0012 - val_accuracy: 1.0000\n",
      "Epoch 4/5\n",
      "720/720 [==============================] - 32s 44ms/sample - loss: 0.0046 - accuracy: 0.9986 - val_loss: 7.2666e-04 - val_accuracy: 1.0000\n",
      "Epoch 5/5\n",
      "720/720 [==============================] - 33s 46ms/sample - loss: 0.0036 - accuracy: 1.0000 - val_loss: 8.5259e-04 - val_accuracy: 1.0000\n"
     ]
    },
    {
     "name": "stderr",
     "output_type": "stream",
     "text": [
      "/anaconda3/lib/python3.6/site-packages/ipykernel_launcher.py:10: FutureWarning: Sorting because non-concatenation axis is not aligned. A future version\n",
      "of pandas will change to not sort by default.\n",
      "\n",
      "To accept the future behavior, pass 'sort=False'.\n",
      "\n",
      "To retain the current behavior and silence the warning, pass 'sort=True'.\n",
      "\n",
      "  # Remove the CWD from sys.path while we load stuff.\n"
     ]
    },
    {
     "name": "stdout",
     "output_type": "stream",
     "text": [
      "Train on 1440 samples, validate on 360 samples\n",
      "Epoch 1/5\n",
      "1440/1440 [==============================] - 72s 50ms/sample - loss: 0.4006 - accuracy: 0.8299 - val_loss: 0.0575 - val_accuracy: 0.9917\n",
      "Epoch 2/5\n",
      "1440/1440 [==============================] - 61s 42ms/sample - loss: 0.0265 - accuracy: 0.9958 - val_loss: 0.0101 - val_accuracy: 0.9972\n",
      "Epoch 3/5\n",
      "1440/1440 [==============================] - 59s 41ms/sample - loss: 0.0073 - accuracy: 0.9986 - val_loss: 0.0075 - val_accuracy: 0.9972\n",
      "Epoch 4/5\n",
      "1440/1440 [==============================] - 62s 43ms/sample - loss: 0.0042 - accuracy: 0.9993 - val_loss: 0.0062 - val_accuracy: 0.9972\n",
      "Epoch 5/5\n",
      "1440/1440 [==============================] - 67s 46ms/sample - loss: 0.0023 - accuracy: 0.9993 - val_loss: 0.0062 - val_accuracy: 0.9972\n"
     ]
    }
   ],
   "source": [
    "accuracy_deep = []\n",
    "\n",
    "for num_sample in [3, 5, 10, 20, 50, 100]:\n",
    "    accuracy_deep.append(whole_pipeline(num_sample))"
   ]
  },
  {
   "cell_type": "code",
   "execution_count": 116,
   "metadata": {
    "ExecuteTime": {
     "end_time": "2019-09-09T15:22:54.578271Z",
     "start_time": "2019-09-09T15:22:54.052971Z"
    }
   },
   "outputs": [
    {
     "data": {
      "image/png": "[encoded data removed]",
      "text/plain": [
       "<Figure size 864x576 with 1 Axes>"
      ]
     },
     "metadata": {},
     "output_type": "display_data"
    }
   ],
   "source": [
    "plt.figure(figsize=(12,8))\n",
    "plt.plot([3, 5, 10, 20, 50, 100], accuracy_deep, label=\"2 classes\")\n",
    "plt.title(\"Deep Learning Accuracy depending on the number of samples\")\n",
    "plt.axhline(0.5, c='r')\n",
    "plt.legend()\n",
    "plt.show()"
   ]
  },
  {
   "cell_type": "markdown",
   "metadata": {},
   "source": [
    "# Neural Structured Learning"
   ]
  },
  {
   "cell_type": "code",
   "execution_count": 119,
   "metadata": {
    "ExecuteTime": {
     "end_time": "2019-09-09T15:24:23.808529Z",
     "start_time": "2019-09-09T15:24:23.794944Z"
    }
   },
   "outputs": [
    {
     "name": "stdout",
     "output_type": "stream",
     "text": [
      "Version:  2.0.0-rc0\n",
      "Eager mode:  True\n",
      "Hub version:  0.3.0\n",
      "GPU is NOT AVAILABLE\n"
     ]
    }
   ],
   "source": [
    "tf.compat.v1.enable_v2_behavior()\n",
    "\n",
    "# Resets notebook state\n",
    "tf.keras.backend.clear_session()\n",
    "\n",
    "print(\"Version: \", tf.__version__)\n",
    "print(\"Eager mode: \", tf.executing_eagerly())\n",
    "print(\"Hub version: \", hub.__version__)\n",
    "print(\"GPU is\", \"available\" if tf.test.is_gpu_available() else \"NOT AVAILABLE\")"
   ]
  },
  {
   "cell_type": "code",
   "execution_count": 120,
   "metadata": {
    "ExecuteTime": {
     "end_time": "2019-09-09T15:24:41.021984Z",
     "start_time": "2019-09-09T15:24:36.445752Z"
    }
   },
   "outputs": [],
   "source": [
    "imdb = tf.keras.datasets.imdb\n",
    "(pp_train_data, pp_train_labels), (pp_test_data, pp_test_labels) = (\n",
    "    imdb.load_data(num_words=10000))"
   ]
  },
  {
   "cell_type": "code",
   "execution_count": 121,
   "metadata": {
    "ExecuteTime": {
     "end_time": "2019-09-09T15:25:07.543095Z",
     "start_time": "2019-09-09T15:25:07.537831Z"
    }
   },
   "outputs": [
    {
     "name": "stdout",
     "output_type": "stream",
     "text": [
      "Training entries: 25000, labels: 25000\n"
     ]
    }
   ],
   "source": [
    "print('Training entries: {}, labels: {}'.format(\n",
    "    len(pp_train_data), len(pp_train_labels)))\n",
    "training_samples_count = len(pp_train_data)"
   ]
  },
  {
   "cell_type": "code",
   "execution_count": 122,
   "metadata": {
    "ExecuteTime": {
     "end_time": "2019-09-09T15:25:23.412314Z",
     "start_time": "2019-09-09T15:25:23.263627Z"
    }
   },
   "outputs": [],
   "source": [
    "def build_reverse_word_index():\n",
    "    # A dictionary mapping words to an integer index\n",
    "    word_index = imdb.get_word_index()\n",
    "\n",
    "    # The first indices are reserved\n",
    "    word_index = {k: (v + 3) for k, v in word_index.items()}\n",
    "    word_index['<PAD>'] = 0\n",
    "    word_index['<START>'] = 1\n",
    "    word_index['<UNK>'] = 2  # unknown\n",
    "    word_index['<UNUSED>'] = 3\n",
    "    return dict((value, key) for (key, value) in word_index.items())\n",
    "\n",
    "reverse_word_index = build_reverse_word_index()\n",
    "\n",
    "def decode_review(text):\n",
    "    return ' '.join([reverse_word_index.get(i, '?') for i in text])"
   ]
  },
  {
   "cell_type": "code",
   "execution_count": 123,
   "metadata": {
    "ExecuteTime": {
     "end_time": "2019-09-09T15:25:26.521009Z",
     "start_time": "2019-09-09T15:25:26.283082Z"
    }
   },
   "outputs": [],
   "source": [
    "!mkdir -p /tmp/imdb"
   ]
  },
  {
   "cell_type": "code",
   "execution_count": 124,
   "metadata": {
    "ExecuteTime": {
     "end_time": "2019-09-09T15:25:30.211693Z",
     "start_time": "2019-09-09T15:25:28.595920Z"
    }
   },
   "outputs": [],
   "source": [
    "tf.compat.v1.disable_tensor_equality()\n",
    "\n",
    "pretrained_embedding = 'https://tfhub.dev/google/tf2-preview/gnews-swivel-20dim/1'\n",
    "\n",
    "hub_layer = hub.KerasLayer(\n",
    "    pretrained_embedding, input_shape=[], dtype=tf.string, trainable=True)"
   ]
  },
  {
   "cell_type": "code",
   "execution_count": 125,
   "metadata": {
    "ExecuteTime": {
     "end_time": "2019-09-09T15:26:12.588154Z",
     "start_time": "2019-09-09T15:25:41.636197Z"
    }
   },
   "outputs": [
    {
     "data": {
      "text/plain": [
       "25000"
      ]
     },
     "execution_count": 125,
     "metadata": {},
     "output_type": "execute_result"
    }
   ],
   "source": [
    "def _int64_feature(value):\n",
    "    \"\"\"Returns int64 tf.train.Feature.\"\"\"\n",
    "    return tf.train.Feature(int64_list=tf.train.Int64List(value=value.tolist()))\n",
    "\n",
    "\n",
    "def _bytes_feature(value):\n",
    "    \"\"\"Returns bytes tf.train.Feature.\"\"\"\n",
    "    return tf.train.Feature(\n",
    "      bytes_list=tf.train.BytesList(value=[value.encode('utf-8')]))\n",
    "\n",
    "\n",
    "def _float_feature(value):\n",
    "    \"\"\"Returns float tf.train.Feature.\"\"\"\n",
    "    return tf.train.Feature(float_list=tf.train.FloatList(value=value.tolist()))\n",
    "\n",
    "\n",
    "def create_embedding_example(word_vector, record_id):\n",
    "    \"\"\"Create tf.Example containing the sample's embedding and its ID.\"\"\"\n",
    "\n",
    "    text = decode_review(word_vector)\n",
    "\n",
    "    # Shape = [batch_size,].\n",
    "    sentence_embedding = hub_layer(tf.reshape(text, shape=[-1,]))\n",
    "\n",
    "     # Flatten the sentence embedding back to 1-D.\n",
    "    sentence_embedding = tf.reshape(sentence_embedding, shape=[-1])\n",
    "\n",
    "    features = {\n",
    "      'id': _bytes_feature(str(record_id)),\n",
    "      'embedding': _float_feature(sentence_embedding.numpy())\n",
    "    }\n",
    "    return tf.train.Example(features=tf.train.Features(feature=features))\n",
    "\n",
    "\n",
    "def create_embeddings(word_vectors, output_path, starting_record_id):\n",
    "    record_id = int(starting_record_id)\n",
    "    with tf.io.TFRecordWriter(output_path) as writer:\n",
    "        for word_vector in word_vectors:\n",
    "            example = create_embedding_example(word_vector, record_id)\n",
    "            record_id = record_id + 1\n",
    "            writer.write(example.SerializeToString())\n",
    "    return record_id\n",
    "\n",
    "\n",
    "# Persist TF.Example features containing embeddings for training data in\n",
    "# TFRecord format.\n",
    "create_embeddings(pp_train_data, '/tmp/imdb/embeddings.tfr', 0)"
   ]
  },
  {
   "cell_type": "code",
   "execution_count": 126,
   "metadata": {
    "ExecuteTime": {
     "end_time": "2019-09-09T15:31:17.070458Z",
     "start_time": "2019-09-09T15:26:38.275429Z"
    }
   },
   "outputs": [
    {
     "name": "stdout",
     "output_type": "stream",
     "text": [
      "/anaconda3/lib/python3.6/site-packages/h5py/__init__.py:36: FutureWarning: Conversion of the second argument of issubdtype from `float` to `np.floating` is deprecated. In future, it will be treated as `np.float64 == np.dtype(float).type`.\n",
      "  from ._conv import register_converters as _register_converters\n",
      "/anaconda3/lib/python3.6/site-packages/requests/__init__.py:91: RequestsDependencyWarning: urllib3 (1.21.1) or chardet (2.3.0) doesn't match a supported version!\n",
      "  RequestsDependencyWarning)\n",
      "/anaconda3/lib/python3.6/runpy.py:125: RuntimeWarning: 'neural_structured_learning.tools.build_graph' found in sys.modules after import of package 'neural_structured_learning.tools', but prior to execution of 'neural_structured_learning.tools.build_graph'; this may result in unpredictable behaviour\n",
      "  warn(RuntimeWarning(msg))\n",
      "Reading tf.train.Examples from TFRecord file: /tmp/imdb/embeddings.tfr...\n",
      "2019-09-09 17:26:44.655803: I tensorflow/core/platform/cpu_feature_guard.cc:142] Your CPU supports instructions that this TensorFlow binary was not compiled to use: AVX2 FMA\n",
      "2019-09-09 17:26:44.677903: I tensorflow/compiler/xla/service/service.cc:168] XLA service 0x7fe013063c70 executing computations on platform Host. Devices:\n",
      "2019-09-09 17:26:44.677936: I tensorflow/compiler/xla/service/service.cc:175]   StreamExecutor device (0): Host, Default Version\n",
      "Done reading 25000 tf.train.Examples from: /tmp/imdb/embeddings.tfr (3.81 seconds).\n",
      "Building graph...\n",
      "Built graph containing 445327 bi-directional edges (267.21 seconds).\n",
      "Writing graph to TSV file: /tmp/imdb/graph_99.tsv\n",
      "Done writing graph to TSV file: /tmp/imdb/graph_99.tsv (0.77 seconds).\n"
     ]
    }
   ],
   "source": [
    "!python -m neural_structured_learning.tools.build_graph \\\n",
    "--similarity_threshold=0.99 /tmp/imdb/embeddings.tfr /tmp/imdb/graph_99.tsv"
   ]
  },
  {
   "cell_type": "code",
   "execution_count": 128,
   "metadata": {
    "ExecuteTime": {
     "end_time": "2019-09-09T15:39:27.830815Z",
     "start_time": "2019-09-09T15:39:07.483918Z"
    }
   },
   "outputs": [
    {
     "name": "stdout",
     "output_type": "stream",
     "text": [
      "/anaconda3/lib/python3.6/site-packages/h5py/__init__.py:36: FutureWarning: Conversion of the second argument of issubdtype from `float` to `np.floating` is deprecated. In future, it will be treated as `np.float64 == np.dtype(float).type`.\n",
      "  from ._conv import register_converters as _register_converters\n",
      "/anaconda3/lib/python3.6/site-packages/requests/__init__.py:91: RequestsDependencyWarning: urllib3 (1.21.1) or chardet (2.3.0) doesn't match a supported version!\n",
      "  RequestsDependencyWarning)\n",
      "/anaconda3/lib/python3.6/runpy.py:125: RuntimeWarning: 'neural_structured_learning.tools.pack_nbrs' found in sys.modules after import of package 'neural_structured_learning.tools', but prior to execution of 'neural_structured_learning.tools.pack_nbrs'; this may result in unpredictable behaviour\n",
      "  warn(RuntimeWarning(msg))\n",
      "Reading tf.train.Examples from TFRecord file: /tmp/imdb/train_data.tfr...\n",
      "2019-09-09 17:39:14.957573: I tensorflow/core/platform/cpu_feature_guard.cc:142] Your CPU supports instructions that this TensorFlow binary was not compiled to use: AVX2 FMA\n",
      "2019-09-09 17:39:14.971601: I tensorflow/compiler/xla/service/service.cc:168] XLA service 0x7fed2d623760 executing computations on platform Host. Devices:\n",
      "2019-09-09 17:39:14.971627: I tensorflow/compiler/xla/service/service.cc:175]   StreamExecutor device (0): Host, Default Version\n",
      "Done reading 25000 tf.train.Examples from: /tmp/imdb/train_data.tfr (3.11 seconds).\n",
      "Reading graph file: /tmp/imdb/graph_99.tsv...\n",
      "Done reading 890654 edges from: /tmp/imdb/graph_99.tsv (1.09 seconds).\n",
      "Making all edges bi-directional...\n",
      "Done (1.37 seconds). Total graph nodes: 17751\n",
      "Joining seed and neighbor tf.train.Examples with graph edges...\n",
      "Done creating and writing 25000 merged tf.train.Examples (6.48 seconds).\n",
      "Out-degree histogram: [(0, 7249), (1, 2106), (2, 1206), (3, 14439)]\n",
      "Output written to TFRecord file: /tmp/imdb/nsl_train_data.tfr.\n",
      "Total running time: 0.20 minutes.\n"
     ]
    }
   ],
   "source": [
    "!python -m neural_structured_learning.tools.pack_nbrs \\\n",
    "--max_nbrs=3 --add_undirected_edges=True \\\n",
    "/tmp/imdb/train_data.tfr '' /tmp/imdb/graph_99.tsv \\\n",
    "/tmp/imdb/nsl_train_data.tfr"
   ]
  },
  {
   "cell_type": "code",
   "execution_count": 129,
   "metadata": {
    "ExecuteTime": {
     "end_time": "2019-09-09T15:39:41.621738Z",
     "start_time": "2019-09-09T15:39:41.616448Z"
    }
   },
   "outputs": [],
   "source": [
    "NBR_FEATURE_PREFIX = 'NL_nbr_'\n",
    "NBR_WEIGHT_SUFFIX = '_weight'"
   ]
  },
  {
   "cell_type": "code",
   "execution_count": 130,
   "metadata": {
    "ExecuteTime": {
     "end_time": "2019-09-09T15:40:03.685015Z",
     "start_time": "2019-09-09T15:40:03.669635Z"
    }
   },
   "outputs": [],
   "source": [
    "class HParams(object):\n",
    "    \"\"\"Hyperparameters used for training.\"\"\"\n",
    "    def __init__(self):\n",
    "        ### dataset parameters\n",
    "        self.num_classes = 2\n",
    "        self.max_seq_length = 256\n",
    "        self.vocab_size = 10000\n",
    "        ### neural graph learning parameters\n",
    "        self.distance_type = nsl.configs.DistanceType.L2\n",
    "        self.graph_regularization_multiplier = 0.1\n",
    "        self.num_neighbors = 2\n",
    "        ### model architecture\n",
    "        self.num_embedding_dims = 16\n",
    "        self.num_lstm_dims = 64\n",
    "        self.num_fc_units = 64\n",
    "        ### training parameters\n",
    "        self.train_epochs = 10\n",
    "        self.batch_size = 128\n",
    "        ### eval parameters\n",
    "        self.eval_steps = None  # All instances in the test set are evaluated.\n",
    "\n",
    "HPARAMS = HParams()"
   ]
  },
  {
   "cell_type": "code",
   "execution_count": 131,
   "metadata": {
    "ExecuteTime": {
     "end_time": "2019-09-09T15:41:49.958904Z",
     "start_time": "2019-09-09T15:41:49.197156Z"
    }
   },
   "outputs": [],
   "source": [
    "def pad_sequence(sequence, max_seq_length):\n",
    "    \"\"\"Pads the input sequence (a `tf.SparseTensor`) to `max_seq_length`.\"\"\"\n",
    "    pad_size = tf.maximum([0], max_seq_length - tf.shape(sequence)[0])\n",
    "    padded = tf.concat(\n",
    "          [sequence.values,\n",
    "           tf.fill((pad_size), tf.cast(0, sequence.dtype))],\n",
    "          axis=0)\n",
    "    # The input sequence may be larger than max_seq_length. Truncate down if necessary.\n",
    "    return tf.slice(padded, [0], [max_seq_length])\n",
    "\n",
    "def parse_example(example_proto):\n",
    "    \"\"\"Extracts relevant fields from the `example_proto`.\n",
    "\n",
    "    Args:\n",
    "    example_proto: An instance of `tf.train.Example`.\n",
    "\n",
    "    Returns:\n",
    "    A pair whose first value is a dictionary containing relevant features\n",
    "    and whose second value contains the ground truth labels.\n",
    "    \"\"\"\n",
    "  \n",
    "    # The 'words' feature is a variable length word ID vector.\n",
    "    feature_spec = {\n",
    "      'words': tf.io.VarLenFeature(tf.int64),\n",
    "      'label': tf.io.FixedLenFeature((), tf.int64, default_value=-1),\n",
    "    }\n",
    "    # We also extract corresponding neighbor features in a similar manner to\n",
    "    # the features above.\n",
    "    for i in range(HPARAMS.num_neighbors):\n",
    "        nbr_feature_key = '{}{}_{}'.format(NBR_FEATURE_PREFIX, i, 'words')\n",
    "        nbr_weight_key = '{}{}{}'.format(NBR_FEATURE_PREFIX, i, NBR_WEIGHT_SUFFIX)\n",
    "        feature_spec[nbr_feature_key] = tf.io.VarLenFeature(tf.int64)\n",
    "\n",
    "    # We assign a default value of 0.0 for the neighbor weight so that\n",
    "    # graph regularization is done on samples based on their exact number\n",
    "    # of neighbors. In other words, non-existent neighbors are discounted.\n",
    "    feature_spec[nbr_weight_key] = tf.io.FixedLenFeature(\n",
    "        [1], tf.float32, default_value=tf.constant([0.0]))\n",
    "\n",
    "    features = tf.io.parse_single_example(example_proto, feature_spec)\n",
    "\n",
    "    # Since the 'words' feature is a variable length word vector, we pad it to a\n",
    "    # constant maximum length based on HPARAMS.max_seq_length\n",
    "    features['words'] = pad_sequence(features['words'], HPARAMS.max_seq_length)\n",
    "    for i in range(HPARAMS.num_neighbors):\n",
    "        nbr_feature_key = '{}{}_{}'.format(NBR_FEATURE_PREFIX, i, 'words')\n",
    "        features[nbr_feature_key] = pad_sequence(features[nbr_feature_key],\n",
    "                                                 HPARAMS.max_seq_length)\n",
    "\n",
    "    labels = features.pop('label')\n",
    "    return features, labels\n",
    "\n",
    "def make_dataset(file_path, training=False):\n",
    "    \"\"\"Creates a `tf.data.TFRecordDataset`.\n",
    "\n",
    "    Args:\n",
    "    file_path: Name of the file in the `.tfrecord` format containing\n",
    "      `tf.train.Example` objects.\n",
    "    training: Boolean indicating if we are in training mode.\n",
    "\n",
    "    Returns:\n",
    "    An instance of `tf.data.TFRecordDataset` containing the `tf.train.Example`\n",
    "    objects.\n",
    "    \"\"\"\n",
    "    dataset = tf.data.TFRecordDataset([file_path])\n",
    "    if training:\n",
    "        dataset = dataset.shuffle(10000)\n",
    "    dataset = dataset.map(parse_example)\n",
    "    dataset = dataset.batch(HPARAMS.batch_size)\n",
    "    return dataset\n",
    "\n",
    "train_dataset = make_dataset('/tmp/imdb/nsl_train_data.tfr', True)\n",
    "test_dataset = make_dataset('/tmp/imdb/test_data.tfr')"
   ]
  },
  {
   "cell_type": "code",
   "execution_count": 132,
   "metadata": {
    "ExecuteTime": {
     "end_time": "2019-09-09T15:42:24.488224Z",
     "start_time": "2019-09-09T15:42:23.993235Z"
    }
   },
   "outputs": [
    {
     "name": "stdout",
     "output_type": "stream",
     "text": [
      "Model: \"model\"\n",
      "_________________________________________________________________\n",
      "Layer (type)                 Output Shape              Param #   \n",
      "=================================================================\n",
      "words (InputLayer)           [(None, 256)]             0         \n",
      "_________________________________________________________________\n",
      "embedding (Embedding)        (None, 256, 16)           160000    \n",
      "_________________________________________________________________\n",
      "bidirectional (Bidirectional (None, 128)               41472     \n",
      "_________________________________________________________________\n",
      "dense (Dense)                (None, 64)                8256      \n",
      "_________________________________________________________________\n",
      "dense_1 (Dense)              (None, 1)                 65        \n",
      "=================================================================\n",
      "Total params: 209,793\n",
      "Trainable params: 209,793\n",
      "Non-trainable params: 0\n",
      "_________________________________________________________________\n"
     ]
    }
   ],
   "source": [
    "# This function exists as an alternative to the bi-LSTM model used in this\n",
    "# notebook.\n",
    "def make_feed_forward_model():\n",
    "    \"\"\"Builds a simple 2 layer feed forward neural network.\"\"\"\n",
    "    inputs = tf.keras.Input(\n",
    "      shape=(HPARAMS.max_seq_length,), dtype='int64', name='words')\n",
    "    embedding_layer = tf.keras.layers.Embedding(HPARAMS.vocab_size, 16)(inputs)\n",
    "    pooling_layer = tf.keras.layers.GlobalAveragePooling1D()(embedding_layer)\n",
    "    dense_layer = tf.keras.layers.Dense(16, activation='relu')(pooling_layer)\n",
    "    outputs = tf.keras.layers.Dense(1, activation='sigmoid')(dense_layer)\n",
    "    return tf.keras.Model(inputs=inputs, outputs=outputs)\n",
    "\n",
    "\n",
    "def make_bilstm_model():\n",
    "    \"\"\"Builds a bi-directional LSTM model.\"\"\"\n",
    "    inputs = tf.keras.Input(\n",
    "      shape=(HPARAMS.max_seq_length,), dtype='int64', name='words')\n",
    "    embedding_layer = tf.keras.layers.Embedding(HPARAMS.vocab_size,\n",
    "                                              HPARAMS.num_embedding_dims)(\n",
    "                                                  inputs)\n",
    "    lstm_layer = tf.keras.layers.Bidirectional(\n",
    "      tf.keras.layers.LSTM(HPARAMS.num_lstm_dims))(\n",
    "          embedding_layer)\n",
    "    dense_layer = tf.keras.layers.Dense(\n",
    "      HPARAMS.num_fc_units, activation='relu')(\n",
    "          lstm_layer)\n",
    "    outputs = tf.keras.layers.Dense(1, activation='sigmoid')(dense_layer)\n",
    "    return tf.keras.Model(inputs=inputs, outputs=outputs)\n",
    "\n",
    "# Feel free to use an architecture of your choice.\n",
    "model = make_bilstm_model()\n",
    "model.summary()"
   ]
  },
  {
   "cell_type": "code",
   "execution_count": 134,
   "metadata": {
    "ExecuteTime": {
     "end_time": "2019-09-09T15:42:38.776278Z",
     "start_time": "2019-09-09T15:42:38.714225Z"
    }
   },
   "outputs": [],
   "source": [
    "model.compile(optimizer='adam', loss='binary_crossentropy', metrics=['accuracy'])"
   ]
  },
  {
   "cell_type": "code",
   "execution_count": 135,
   "metadata": {
    "ExecuteTime": {
     "end_time": "2019-09-09T15:42:51.583930Z",
     "start_time": "2019-09-09T15:42:51.573571Z"
    }
   },
   "outputs": [
    {
     "name": "stdout",
     "output_type": "stream",
     "text": [
      "175\n"
     ]
    }
   ],
   "source": [
    "validation_fraction = 0.9\n",
    "validation_size = int(validation_fraction * int(training_samples_count / HPARAMS.batch_size))\n",
    "print(validation_size)\n",
    "validation_dataset = train_dataset.take(validation_size)\n",
    "train_dataset = train_dataset.skip(validation_size)"
   ]
  },
  {
   "cell_type": "code",
   "execution_count": 136,
   "metadata": {
    "ExecuteTime": {
     "end_time": "2019-09-09T15:48:22.107283Z",
     "start_time": "2019-09-09T15:43:00.793802Z"
    }
   },
   "outputs": [
    {
     "name": "stdout",
     "output_type": "stream",
     "text": [
      "Epoch 1/10\n",
      "21/21 [==============================] - 43s 2s/step - loss: 0.6933 - accuracy: 0.4885 - val_loss: 0.0000e+00 - val_accuracy: 0.0000e+00\n",
      "Epoch 2/10\n",
      "21/21 [==============================] - 33s 2s/step - loss: 0.6917 - accuracy: 0.5412 - val_loss: 0.0000e+00 - val_accuracy: 0.0000e+00\n",
      "Epoch 3/10\n",
      "21/21 [==============================] - 30s 1s/step - loss: 0.6647 - accuracy: 0.6312 - val_loss: 0.0000e+00 - val_accuracy: 0.0000e+00\n",
      "Epoch 4/10\n",
      "21/21 [==============================] - 30s 1s/step - loss: 0.6308 - accuracy: 0.6800 - val_loss: 0.0000e+00 - val_accuracy: 0.0000e+00\n",
      "Epoch 5/10\n",
      "21/21 [==============================] - 34s 2s/step - loss: 0.4995 - accuracy: 0.7635 - val_loss: 0.0000e+00 - val_accuracy: 0.0000e+00\n",
      "Epoch 6/10\n",
      "21/21 [==============================] - 32s 2s/step - loss: 0.4170 - accuracy: 0.8162 - val_loss: 0.0000e+00 - val_accuracy: 0.0000e+00\n",
      "Epoch 7/10\n",
      "21/21 [==============================] - 30s 1s/step - loss: 0.3613 - accuracy: 0.8485 - val_loss: 0.0000e+00 - val_accuracy: 0.0000e+00\n",
      "Epoch 8/10\n",
      "21/21 [==============================] - 30s 1s/step - loss: 0.3257 - accuracy: 0.8662 - val_loss: 0.0000e+00 - val_accuracy: 0.0000e+00\n",
      "Epoch 9/10\n",
      "21/21 [==============================] - 30s 1s/step - loss: 0.2930 - accuracy: 0.8788 - val_loss: 0.0000e+00 - val_accuracy: 0.0000e+00\n",
      "Epoch 10/10\n",
      "21/21 [==============================] - 30s 1s/step - loss: 0.3008 - accuracy: 0.8758 - val_loss: 0.0000e+00 - val_accuracy: 0.0000e+00\n"
     ]
    }
   ],
   "source": [
    "history = model.fit(\n",
    "    train_dataset,\n",
    "    validation_data=validation_dataset,\n",
    "    epochs=HPARAMS.train_epochs,\n",
    "    verbose=1)"
   ]
  },
  {
   "cell_type": "code",
   "execution_count": 137,
   "metadata": {
    "ExecuteTime": {
     "end_time": "2019-09-09T15:50:38.342037Z",
     "start_time": "2019-09-09T15:50:12.765438Z"
    }
   },
   "outputs": [
    {
     "name": "stdout",
     "output_type": "stream",
     "text": [
      "196/196 [==============================] - 26s 130ms/step - loss: 0.3733 - accuracy: 0.8371\n",
      "[0.3732693161891431, 0.83712]\n"
     ]
    }
   ],
   "source": [
    "results = model.evaluate(test_dataset, steps=HPARAMS.eval_steps)\n",
    "print(results)"
   ]
  },
  {
   "cell_type": "code",
   "execution_count": 138,
   "metadata": {
    "ExecuteTime": {
     "end_time": "2019-09-09T15:50:43.787322Z",
     "start_time": "2019-09-09T15:50:43.502327Z"
    }
   },
   "outputs": [
    {
     "data": {
      "image/png": "[encoded data removed]",
      "text/plain": [
       "<Figure size 432x288 with 1 Axes>"
      ]
     },
     "metadata": {},
     "output_type": "display_data"
    }
   ],
   "source": [
    "history_dict = history.history\n",
    "history_dict.keys()\n",
    "\n",
    "acc = history_dict['accuracy']\n",
    "val_acc = history_dict['val_accuracy']\n",
    "loss = history_dict['loss']\n",
    "val_loss = history_dict['val_loss']\n",
    "\n",
    "epochs = range(1, len(acc) + 1)\n",
    "\n",
    "# \"-r^\" is for solid red line with triangle markers.\n",
    "plt.plot(epochs, loss, '-r^', label='Training loss')\n",
    "# \"-b0\" is for solid blue line with circle markers.\n",
    "plt.plot(epochs, val_loss, '-bo', label='Validation loss')\n",
    "plt.title('Training and validation loss')\n",
    "plt.xlabel('Epochs')\n",
    "plt.ylabel('Loss')\n",
    "plt.legend(loc='best')\n",
    "\n",
    "plt.show()"
   ]
  },
  {
   "cell_type": "code",
   "execution_count": null,
   "metadata": {},
   "outputs": [],
   "source": []
  },
  {
   "cell_type": "code",
   "execution_count": null,
   "metadata": {},
   "outputs": [],
   "source": []
  },
  {
   "cell_type": "code",
   "execution_count": 127,
   "metadata": {
    "ExecuteTime": {
     "end_time": "2019-09-09T15:32:08.270611Z",
     "start_time": "2019-09-09T15:31:59.748482Z"
    },
    "scrolled": true
   },
   "outputs": [
    {
     "data": {
      "text/plain": [
       "50000"
      ]
     },
     "execution_count": 127,
     "metadata": {},
     "output_type": "execute_result"
    }
   ],
   "source": [
    "def create_example(word_vector, label, record_id):\n",
    "    \"\"\"Create tf.Example containing the sample's word vector, label, and ID.\"\"\"\n",
    "    features = {\n",
    "      'id': _bytes_feature(str(record_id)),\n",
    "      'words': _int64_feature(np.asarray(word_vector)),\n",
    "      'label': _int64_feature(np.asarray([label])),\n",
    "    }\n",
    "    return tf.train.Example(features=tf.train.Features(feature=features))\n",
    "\n",
    "def create_records(word_vectors, labels, record_path, starting_record_id):\n",
    "    record_id = int(starting_record_id)\n",
    "    with tf.io.TFRecordWriter(record_path) as writer:\n",
    "        for word_vector, label in zip(word_vectors, labels):\n",
    "            example = create_example(word_vector, label, record_id)\n",
    "            record_id = record_id + 1\n",
    "            writer.write(example.SerializeToString())\n",
    "    return record_id\n",
    "\n",
    "# Persist TF.Example features (word vectors and labels) for training and test\n",
    "# data in TFRecord format.\n",
    "next_record_id = create_records(pp_train_data, pp_train_labels,\n",
    "                                '/tmp/imdb/train_data.tfr', 0)\n",
    "create_records(pp_test_data, pp_test_labels, '/tmp/imdb/test_data.tfr',\n",
    "               next_record_id)"
   ]
  },
  {
   "cell_type": "code",
   "execution_count": null,
   "metadata": {},
   "outputs": [],
   "source": []
  },
  {
   "cell_type": "code",
   "execution_count": null,
   "metadata": {},
   "outputs": [],
   "source": [
    "class HParams(object):\n",
    "    def __init__(self):\n",
    "        self.input_shape = [28, 28, 1]\n",
    "        self.num_classes = 10\n",
    "        self.conv_filters = [32, 64, 64]\n",
    "        self.kernel_size = (3, 3)\n",
    "        self.pool_size = (2, 2)\n",
    "        self.num_fc_units = [64]\n",
    "        self.batch_size = 32\n",
    "        self.epochs = 5\n",
    "        self.adv_multiplier = 0.2\n",
    "        self.adv_step_size = 0.2\n",
    "        self.adv_grad_norm = 'infinity'\n",
    "\n",
    "HPARAMS = HParams()\n",
    "\n",
    "datasets = tfds.load('mnist')\n",
    "\n",
    "train_dataset = datasets['train']\n",
    "test_dataset = datasets['test']\n",
    "\n",
    "IMAGE_INPUT_NAME = 'image'\n",
    "LABEL_INPUT_NAME = 'label'\n",
    "\n",
    "def normalize(features):\n",
    "    features[IMAGE_INPUT_NAME] = tf.cast(\n",
    "        features[IMAGE_INPUT_NAME], dtype=tf.float32) / 255.0\n",
    "    return features\n",
    "\n",
    "def convert_to_tuples(features):\n",
    "    return features[IMAGE_INPUT_NAME], features[LABEL_INPUT_NAME]\n",
    "\n",
    "def convert_to_dictionaries(image, label):\n",
    "    return {IMAGE_INPUT_NAME: image, LABEL_INPUT_NAME: label}\n",
    "\n",
    "train_dataset = train_dataset.map(normalize).shuffle(10000).batch(HPARAMS.batch_size).map(convert_to_tuples)\n",
    "test_dataset = test_dataset.map(normalize).batch(HPARAMS.batch_size).map(convert_to_tuples)\n",
    "\n",
    "def build_base_model(hparams):\n",
    "    \"\"\"Builds a model according to the architecture defined in `hparams`.\"\"\"\n",
    "    inputs = tf.keras.Input(shape=hparams.input_shape, dtype=tf.float32, name=IMAGE_INPUT_NAME)\n",
    "\n",
    "    x = inputs\n",
    "    \n",
    "    for i, num_filters in enumerate(hparams.conv_filters):\n",
    "        x = tf.keras.layers.Conv2D(num_filters, hparams.kernel_size, activation='relu')(x)\n",
    "        if i < len(hparams.conv_filters) - 1:\n",
    "            # max pooling between convolutional layers\n",
    "            x = tf.keras.layers.MaxPooling2D(hparams.pool_size)(x)\n",
    "    x = tf.keras.layers.Flatten()(x)\n",
    "    \n",
    "    for num_units in hparams.num_fc_units:\n",
    "        x = tf.keras.layers.Dense(num_units, activation='relu')(x)\n",
    "        \n",
    "    pred = tf.keras.layers.Dense(hparams.num_classes, activation='softmax')(x)\n",
    "    model = tf.keras.Model(inputs=inputs, outputs=pred)\n",
    "    \n",
    "    return model\n",
    "\n",
    "adv_config = nsl.configs.make_adv_reg_config(\n",
    "    multiplier=HPARAMS.adv_multiplier,\n",
    "    adv_step_size=HPARAMS.adv_step_size,\n",
    "    adv_grad_norm=HPARAMS.adv_grad_norm\n",
    ")\n",
    "\n",
    "base_adv_model = build_base_model(HPARAMS)\n",
    "adv_model = nsl.keras.AdversarialRegularization(\n",
    "    base_adv_model,\n",
    "    label_keys=[LABEL_INPUT_NAME],\n",
    "    adv_config=adv_config\n",
    ")\n",
    "\n",
    "train_set_for_adv_model = train_dataset.map(convert_to_dictionaries)\n",
    "test_set_for_adv_model = test_dataset.map(convert_to_dictionaries)\n",
    "\n",
    "adv_model.compile(optimizer='adam', loss='sparse_categorical_crossentropy',\n",
    "                   metrics=['accuracy'])\n",
    "adv_model.fit(train_set_for_adv_model, epochs=HPARAMS.epochs)"
   ]
  }
 ],
 "metadata": {
  "kernelspec": {
   "display_name": "Python 3",
   "language": "python",
   "name": "python3"
  },
  "language_info": {
   "codemirror_mode": {
    "name": "ipython",
    "version": 3
   },
   "file_extension": ".py",
   "mimetype": "text/x-python",
   "name": "python",
   "nbconvert_exporter": "python",
   "pygments_lexer": "ipython3",
   "version": "3.6.5"
  },
  "latex_envs": {
   "LaTeX_envs_menu_present": true,
   "autoclose": false,
   "autocomplete": true,
   "bibliofile": "biblio.bib",
   "cite_by": "apalike",
   "current_citInitial": 1,
   "eqLabelWithNumbers": true,
   "eqNumInitial": 1,
   "hotkeys": {
    "equation": "Ctrl-E",
    "itemize": "Ctrl-I"
   },
   "labels_anchors": false,
   "latex_user_defs": false,
   "report_style_numbering": false,
   "user_envs_cfg": false
  }
 },
 "nbformat": 4,
 "nbformat_minor": 2
}
